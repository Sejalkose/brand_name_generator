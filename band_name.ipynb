{
  "nbformat": 4,
  "nbformat_minor": 0,
  "metadata": {
    "colab": {
      "provenance": [],
      "authorship_tag": "ABX9TyPVWz8aRoUTjba6h/lSU2Ez",
      "include_colab_link": true
    },
    "kernelspec": {
      "name": "python3",
      "display_name": "Python 3"
    },
    "language_info": {
      "name": "python"
    }
  },
  "cells": [
    {
      "cell_type": "markdown",
      "metadata": {
        "id": "view-in-github",
        "colab_type": "text"
      },
      "source": [
        "<a href=\"https://colab.research.google.com/github/Sejalkose/brand_name_generator/blob/main/band_name.ipynb\" target=\"_parent\"><img src=\"https://colab.research.google.com/assets/colab-badge.svg\" alt=\"Open In Colab\"/></a>"
      ]
    },
    {
      "cell_type": "code",
      "execution_count": 1,
      "metadata": {
        "colab": {
          "base_uri": "https://localhost:8080/"
        },
        "id": "85oXXdhiJgmz",
        "outputId": "32dc3713-8e31-4e3f-c2a8-152318bba9d7"
      },
      "outputs": [
        {
          "output_type": "stream",
          "name": "stdout",
          "text": [
            "Welcome to the Band Name Generator\n",
            "What's the name of the city you grew up in?\n",
            "Nagpur\n",
            "what's your pets name?\n",
            "Fishi\n",
            "Your band name could be Nagpur Fishi\n"
          ]
        }
      ],
      "source": [
        "print(\"Welcome to the Band Name Generator\")\n",
        "city = input(\"What's the name of the city you grew up in?\\n\")\n",
        "\n",
        "pet = input(\"what's your pets name?\\n\")\n",
        "\n",
        "print(\"Your band name could be \"+ city +\" \"+pet)\n",
        "\n"
      ]
    }
  ]
}